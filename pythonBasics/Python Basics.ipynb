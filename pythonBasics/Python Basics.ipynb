{
 "cells": [
  {
   "cell_type": "markdown",
   "id": "f01a6f6e",
   "metadata": {},
   "source": [
    "# 1.Basics of Python"
   ]
  },
  {
   "cell_type": "code",
   "execution_count": 2,
   "id": "653e160d",
   "metadata": {},
   "outputs": [
    {
     "name": "stdout",
     "output_type": "stream",
     "text": [
      "this/is/a/print/statement\n"
     ]
    }
   ],
   "source": [
    "print('this','is','a','print','statement', sep='/')"
   ]
  },
  {
   "cell_type": "code",
   "execution_count": 3,
   "id": "5b494d53",
   "metadata": {},
   "outputs": [
    {
     "name": "stdout",
     "output_type": "stream",
     "text": [
      "this-is-a-print-statement\n"
     ]
    }
   ],
   "source": [
    "print('this','is','a','print','statement', sep='-')"
   ]
  },
  {
   "cell_type": "code",
   "execution_count": 4,
   "id": "9f77c91d",
   "metadata": {},
   "outputs": [
    {
     "name": "stdout",
     "output_type": "stream",
     "text": [
      "pyhton/basics\n"
     ]
    }
   ],
   "source": [
    "print(\"pyhton\",end='/')\n",
    "print(\"basics\")"
   ]
  },
  {
   "cell_type": "markdown",
   "id": "c006c600",
   "metadata": {},
   "source": [
    "## Data types in python"
   ]
  },
  {
   "cell_type": "markdown",
   "id": "57282f0c",
   "metadata": {},
   "source": [
    "### Python suppports 3 categories of data types <br><br> >Basics type - (integer, float, complex, boolean and string)<br>>Container types - (list, tuples, sets and dictionary)<br>>User defined types - class"
   ]
  },
  {
   "cell_type": "code",
   "execution_count": 4,
   "id": "2b09c08f",
   "metadata": {},
   "outputs": [
    {
     "name": "stdout",
     "output_type": "stream",
     "text": [
      "1e+308 inf\n"
     ]
    }
   ],
   "source": [
    "print(1e308, 1e309)"
   ]
  },
  {
   "cell_type": "code",
   "execution_count": 5,
   "id": "02b0debd",
   "metadata": {},
   "outputs": [
    {
     "name": "stdout",
     "output_type": "stream",
     "text": [
      "1.7e+308 inf\n"
     ]
    }
   ],
   "source": [
    "print(1.7e308,1.7e309)"
   ]
  },
  {
   "cell_type": "code",
   "execution_count": 6,
   "id": "9cbc5057",
   "metadata": {},
   "outputs": [],
   "source": [
    "## Variable declaration\n",
    "#special syntax (declare multiple variables at a single line with \";\" seperation)\n",
    "a=59;b='jay';c=True;\n",
    "print(a)\n",
    "print(b)\n",
    "print(c)"
   ]
  },
  {
   "cell_type": "code",
   "execution_count": null,
   "id": "2edb01e1",
   "metadata": {},
   "outputs": [
    {
     "name": "stdout",
     "output_type": "stream",
     "text": [
      "9\n",
      "9\n",
      "9\n"
     ]
    }
   ],
   "source": [
    "a=b=c=d=9\n",
    "print(a)\n",
    "print(b)\n",
    "print(c)\n"
   ]
  },
  {
   "cell_type": "code",
   "execution_count": 8,
   "id": "f6641595",
   "metadata": {},
   "outputs": [
    {
     "name": "stdout",
     "output_type": "stream",
     "text": [
      "30\n",
      "40\n",
      "50\n",
      "60\n"
     ]
    }
   ],
   "source": [
    "a,b,c,d = 30,40,50,60\n",
    "print(a)\n",
    "print(b)\n",
    "print(c)\n",
    "print(d)"
   ]
  },
  {
   "cell_type": "markdown",
   "id": "7938b0a0",
   "metadata": {},
   "source": [
    "### Keywords"
   ]
  },
  {
   "cell_type": "code",
   "execution_count": 9,
   "id": "eed0f987",
   "metadata": {},
   "outputs": [
    {
     "name": "stdout",
     "output_type": "stream",
     "text": [
      "['False', 'None', 'True', 'and', 'as', 'assert', 'async', 'await', 'break', 'class', 'continue', 'def', 'del', 'elif', 'else', 'except', 'finally', 'for', 'from', 'global', 'if', 'import', 'in', 'is', 'lambda', 'nonlocal', 'not', 'or', 'pass', 'raise', 'return', 'try', 'while', 'with', 'yield']\n"
     ]
    }
   ],
   "source": [
    "#python has 33 keywords\n",
    "import keyword\n",
    "print(keyword.kwlist)"
   ]
  },
  {
   "cell_type": "markdown",
   "id": "edbcba6a",
   "metadata": {},
   "source": [
    "## Taking user input"
   ]
  },
  {
   "cell_type": "code",
   "execution_count": 10,
   "id": "59b4ffca",
   "metadata": {},
   "outputs": [],
   "source": [
    "##input()"
   ]
  },
  {
   "cell_type": "markdown",
   "id": "3a187cd1",
   "metadata": {},
   "source": [
    "### literals"
   ]
  },
  {
   "cell_type": "markdown",
   "id": "72be697b",
   "metadata": {},
   "source": [
    "### Numeric <br>string<br>boolean<br>special"
   ]
  },
  {
   "cell_type": "code",
   "execution_count": 11,
   "id": "f97900fb",
   "metadata": {},
   "outputs": [
    {
     "name": "stdout",
     "output_type": "stream",
     "text": [
      "10 100 200 300\n",
      "10.5 150.0 0.0015\n",
      "3.14j 3.14 0.0\n"
     ]
    }
   ],
   "source": [
    "#numeric\n",
    "a = 0b1010 #Binary Literals\n",
    "b = 100 #Decimal Literal \n",
    "c = 0o310 #Octal Literal\n",
    "d = 0x12c #Hexadecimal Literal\n",
    "\n",
    "#Float Literal\n",
    "float_1 = 10.5 \n",
    "float_2 = 1.5e2\n",
    "float_3 = 1.5e-3\n",
    "\n",
    "#Complex Literal \n",
    "x = 3.14j\n",
    "\n",
    "print(a, b, c, d)\n",
    "print(float_1, float_2,float_3)\n",
    "print(x, x.imag, x.real)"
   ]
  },
  {
   "cell_type": "code",
   "execution_count": 12,
   "id": "679c868d",
   "metadata": {},
   "outputs": [
    {
     "name": "stdout",
     "output_type": "stream",
     "text": [
      "This is Python\n",
      "This is Python\n",
      "C\n",
      "This is a multiline string with more than one line code.\n",
      "😀😆🤣\n",
      "raw \\n string\n"
     ]
    }
   ],
   "source": [
    "#string\n",
    "string = 'This is Python'\n",
    "strings = \"This is Python\"\n",
    "char = \"C\"\n",
    "multiline_str = \"\"\"This is a multiline string with more than one line code.\"\"\"\n",
    "unicode = u\"\\U0001f600\\U0001F606\\U0001F923\"\n",
    "raw_str = r\"raw \\n string\"\n",
    "\n",
    "print(string)\n",
    "print(strings)\n",
    "print(char)\n",
    "print(multiline_str)\n",
    "print(unicode)\n",
    "print(raw_str)"
   ]
  },
  {
   "cell_type": "code",
   "execution_count": 13,
   "id": "cea54a66",
   "metadata": {},
   "outputs": [
    {
     "name": "stdout",
     "output_type": "stream",
     "text": [
      "a: 5\n",
      "b: 10\n"
     ]
    }
   ],
   "source": [
    "#boolean\n",
    "a = True + 4\n",
    "b = False + 10\n",
    "\n",
    "print(\"a:\", a)\n",
    "print(\"b:\", b)"
   ]
  },
  {
   "cell_type": "code",
   "execution_count": 14,
   "id": "6eda6d94",
   "metadata": {},
   "outputs": [
    {
     "name": "stdout",
     "output_type": "stream",
     "text": [
      "None\n"
     ]
    }
   ],
   "source": [
    "#spcial\n",
    "a = None\n",
    "print(a)"
   ]
  },
  {
   "cell_type": "markdown",
   "id": "d84e3ce5",
   "metadata": {},
   "source": [
    "## Operators\n",
    "\n",
    "Operators are used to perform operations on variables and values. Python has the following operators:\n",
    "\n",
    "- Arithmetic operators\n",
    "- Comparison operators\n",
    "- Logical operators\n",
    "- Bitwise operators\n",
    "- Assignment operators\n",
    "- Identity operators\n",
    "- Membership operators"
   ]
  },
  {
   "cell_type": "markdown",
   "id": "3b52f00a",
   "metadata": {},
   "source": [
    "- Arithmetic operators\n",
    "# =,+,-,*,/,%,//,**\n",
    "\n",
    "- Comparison operators\n",
    "# <,><=,>=,==,!=\n",
    "\n",
    "- Logical operators\n",
    "# or , and , not\n",
    "\n",
    "- Bitwise operators\n",
    "# &, |, <<, >>, ~x\n",
    "\n",
    "- Assignment operators\n",
    "# =, ==, +=, -=, *=, &=\n",
    "\n",
    "- Identity operators\n",
    "# is, is not\n",
    "\n",
    "- Membership operators\n",
    "# in, not in\n"
   ]
  },
  {
   "cell_type": "markdown",
   "id": "3a8027ee",
   "metadata": {},
   "source": [
    "#- Decision Control"
   ]
  },
  {
   "cell_type": "code",
   "execution_count": 15,
   "id": "52b942fd",
   "metadata": {},
   "outputs": [],
   "source": [
    "# if else statement\n",
    "# nested if else"
   ]
  },
  {
   "cell_type": "code",
   "execution_count": 16,
   "id": "b0694cb3",
   "metadata": {},
   "outputs": [],
   "source": [
    "# while-loop    \n",
    "# while condition:\n",
    "#     code"
   ]
  },
  {
   "cell_type": "code",
   "execution_count": 17,
   "id": "934a73b6",
   "metadata": {},
   "outputs": [],
   "source": [
    "# for function\n",
    "#range(start, stop, step)"
   ]
  },
  {
   "cell_type": "code",
   "execution_count": 18,
   "id": "a358d0c6",
   "metadata": {},
   "outputs": [
    {
     "name": "stdout",
     "output_type": "stream",
     "text": [
      "[0, 1, 2, 3, 4, 5, 6, 7, 8, 9, 10, 11, 12, 13, 14, 15, 16, 17, 18, 19, 20, 21, 22, 23, 24, 25, 26, 27, 28, 29, 30, 31, 32, 33, 34, 35, 36, 37, 38, 39, 40, 41, 42, 43, 44, 45, 46, 47, 48, 49, 50, 51, 52, 53, 54, 55, 56, 57, 58, 59, 60, 61, 62, 63, 64, 65, 66, 67, 68, 69, 70, 71, 72, 73, 74, 75, 76, 77, 78, 79, 80, 81, 82, 83, 84, 85, 86, 87, 88, 89, 90, 91, 92, 93, 94, 95, 96, 97, 98, 99, 100, 101, 102, 103, 104, 105, 106, 107, 108, 109, 110, 111, 112, 113, 114, 115, 116, 117, 118, 119, 120, 121, 122, 123, 124, 125, 126, 127, 128, 129, 130, 131, 132, 133, 134, 135, 136, 137, 138, 139, 140, 141, 142, 143, 144, 145, 146, 147, 148, 149, 150, 151, 152, 153, 154, 155, 156, 157, 158, 159, 160, 161, 162, 163, 164, 165, 166, 167, 168, 169, 170, 171, 172, 173, 174, 175, 176, 177, 178, 179, 180, 181, 182, 183, 184, 185, 186, 187, 188, 189, 190, 191, 192, 193, 194, 195, 196, 197, 198, 199]\n"
     ]
    }
   ],
   "source": [
    "print(list(range(200)))"
   ]
  },
  {
   "cell_type": "code",
   "execution_count": 19,
   "id": "9e55ce70",
   "metadata": {},
   "outputs": [
    {
     "name": "stdout",
     "output_type": "stream",
     "text": [
      "Enter the no of rows:5\n",
      "*  \n",
      "* *  \n",
      "* * *  \n",
      "* * * *  \n",
      "* * * * *  \n"
     ]
    }
   ],
   "source": [
    "#  print * with respect to input \n",
    "row = int(input(\"Enter the no of rows:\"))\n",
    "for i in range(1,row + 1):\n",
    "    for j in range(i):\n",
    "        print(\"*\", end=\" \")\n",
    "    print(\" \")\n"
   ]
  },
  {
   "cell_type": "markdown",
   "id": "86dcb8dd",
   "metadata": {},
   "source": [
    "-Break, Continue and Pass statemnent"
   ]
  },
  {
   "cell_type": "markdown",
   "id": "c4162350",
   "metadata": {},
   "source": [
    "## Buit in fuctions in python"
   ]
  },
  {
   "cell_type": "code",
   "execution_count": 20,
   "id": "d7c43665",
   "metadata": {},
   "outputs": [
    {
     "name": "stdout",
     "output_type": "stream",
     "text": [
      "Hello world\n"
     ]
    }
   ],
   "source": [
    "## 1.print\n",
    "print(\"Hello world\")\n"
   ]
  },
  {
   "cell_type": "code",
   "execution_count": 21,
   "id": "fb20a64f",
   "metadata": {},
   "outputs": [
    {
     "name": "stdout",
     "output_type": "stream",
     "text": [
      "Enter your namedgfdg\n"
     ]
    },
    {
     "data": {
      "text/plain": [
       "'dgfdg'"
      ]
     },
     "execution_count": 21,
     "metadata": {},
     "output_type": "execute_result"
    }
   ],
   "source": [
    "### 2. input\n",
    "input(\"Enter your name\")\n"
   ]
  },
  {
   "cell_type": "code",
   "execution_count": 22,
   "id": "b41816fc",
   "metadata": {},
   "outputs": [
    {
     "data": {
      "text/plain": [
       "bool"
      ]
     },
     "execution_count": 22,
     "metadata": {},
     "output_type": "execute_result"
    }
   ],
   "source": [
    "### 3. type\n",
    "a = True\n",
    "type(a)"
   ]
  },
  {
   "cell_type": "code",
   "execution_count": 23,
   "id": "c66e1c81",
   "metadata": {},
   "outputs": [
    {
     "data": {
      "text/plain": [
       "5"
      ]
     },
     "execution_count": 23,
     "metadata": {},
     "output_type": "execute_result"
    }
   ],
   "source": [
    "### 4. int etc.\n",
    "int(5.6)\n",
    "# float\n",
    "# str\n",
    "# list\n",
    "# tuple"
   ]
  },
  {
   "cell_type": "code",
   "execution_count": 24,
   "id": "6d7a5d8b",
   "metadata": {},
   "outputs": [
    {
     "data": {
      "text/plain": [
       "4"
      ]
     },
     "execution_count": 24,
     "metadata": {},
     "output_type": "execute_result"
    }
   ],
   "source": [
    "### 5. absolute/ mod \n",
    "abs(-4)\n"
   ]
  },
  {
   "cell_type": "code",
   "execution_count": 25,
   "id": "92a895e0",
   "metadata": {},
   "outputs": [
    {
     "data": {
      "text/plain": [
       "0.125"
      ]
     },
     "execution_count": 25,
     "metadata": {},
     "output_type": "execute_result"
    }
   ],
   "source": [
    "### 6. pow\n",
    "pow(2,-3)\n"
   ]
  },
  {
   "cell_type": "code",
   "execution_count": 26,
   "id": "eaa06186",
   "metadata": {},
   "outputs": [
    {
     "data": {
      "text/plain": [
       "'a'"
      ]
     },
     "execution_count": 26,
     "metadata": {},
     "output_type": "execute_result"
    }
   ],
   "source": [
    "### 7. min/max\n",
    "min(\"kolkata\")\n"
   ]
  },
  {
   "cell_type": "code",
   "execution_count": 27,
   "id": "df32d555",
   "metadata": {},
   "outputs": [
    {
     "data": {
      "text/plain": [
       "3"
      ]
     },
     "execution_count": 27,
     "metadata": {},
     "output_type": "execute_result"
    }
   ],
   "source": [
    "### 8. round\n",
    "c = 22/7\n",
    "round(c)"
   ]
  },
  {
   "cell_type": "code",
   "execution_count": 28,
   "id": "47d0ef6f",
   "metadata": {},
   "outputs": [
    {
     "data": {
      "text/plain": [
       "(2, 1)"
      ]
     },
     "execution_count": 28,
     "metadata": {},
     "output_type": "execute_result"
    }
   ],
   "source": [
    "### 9. divmod (floor division and modulus )\n",
    "divmod(5,2)\n"
   ]
  },
  {
   "cell_type": "code",
   "execution_count": 29,
   "id": "630a57d1",
   "metadata": {},
   "outputs": [
    {
     "data": {
      "text/plain": [
       "'0x4'"
      ]
     },
     "execution_count": 29,
     "metadata": {},
     "output_type": "execute_result"
    }
   ],
   "source": [
    "### 10. binary/octadecimal/hexadecimal\n",
    "hex(4)\n"
   ]
  },
  {
   "cell_type": "code",
   "execution_count": 30,
   "id": "a7becb24",
   "metadata": {},
   "outputs": [
    {
     "data": {
      "text/plain": [
       "140723925017448"
      ]
     },
     "execution_count": 30,
     "metadata": {},
     "output_type": "execute_result"
    }
   ],
   "source": [
    "### 11. id\n",
    "a = 3\n",
    "id(a)"
   ]
  },
  {
   "cell_type": "code",
   "execution_count": 31,
   "id": "9aef834e",
   "metadata": {},
   "outputs": [
    {
     "data": {
      "text/plain": [
       "65"
      ]
     },
     "execution_count": 31,
     "metadata": {},
     "output_type": "execute_result"
    }
   ],
   "source": [
    "### 12. ord (unicode or ascii code)\n",
    "ord('A')\n"
   ]
  },
  {
   "cell_type": "code",
   "execution_count": 32,
   "id": "4c4f3090",
   "metadata": {},
   "outputs": [
    {
     "data": {
      "text/plain": [
       "3"
      ]
     },
     "execution_count": 32,
     "metadata": {},
     "output_type": "execute_result"
    }
   ],
   "source": [
    "### 13. len\n",
    "len([1,2,3])\n"
   ]
  },
  {
   "cell_type": "code",
   "execution_count": 33,
   "id": "cf005fed",
   "metadata": {},
   "outputs": [
    {
     "data": {
      "text/plain": [
       "15"
      ]
     },
     "execution_count": 33,
     "metadata": {},
     "output_type": "execute_result"
    }
   ],
   "source": [
    "### 14. sum\n",
    "sum({1,2,3,4,5})\n"
   ]
  },
  {
   "cell_type": "code",
   "execution_count": 34,
   "id": "0c974936",
   "metadata": {},
   "outputs": [
    {
     "name": "stdout",
     "output_type": "stream",
     "text": [
      "Help on built-in function id in module builtins:\n",
      "\n",
      "id(obj, /)\n",
      "    Return the identity of an object.\n",
      "    \n",
      "    This is guaranteed to be unique among simultaneously existing objects.\n",
      "    (CPython uses the object's memory address.)\n",
      "\n"
     ]
    }
   ],
   "source": [
    "### 15. help\n",
    "help(id)"
   ]
  },
  {
   "cell_type": "code",
   "execution_count": 35,
   "id": "8a8a5b83",
   "metadata": {},
   "outputs": [
    {
     "name": "stdout",
     "output_type": "stream",
     "text": [
      "Help on built-in function print in module builtins:\n",
      "\n",
      "print(*args, sep=' ', end='\\n', file=None, flush=False)\n",
      "    Prints the values to a stream, or to sys.stdout by default.\n",
      "    \n",
      "    sep\n",
      "      string inserted between values, default a space.\n",
      "    end\n",
      "      string appended after the last value, default a newline.\n",
      "    file\n",
      "      a file-like object (stream); defaults to the current sys.stdout.\n",
      "    flush\n",
      "      whether to forcibly flush the stream.\n",
      "\n"
     ]
    }
   ],
   "source": [
    "help(print)"
   ]
  },
  {
   "cell_type": "code",
   "execution_count": 36,
   "id": "31ee83d0",
   "metadata": {},
   "outputs": [
    {
     "name": "stdout",
     "output_type": "stream",
     "text": [
      "\n",
      "Please wait a moment while I gather a list of all available modules...\n",
      "\n",
      "test_sqlite3: testing with version '2.6.0', sqlite_version '3.40.1'\n"
     ]
    },
    {
     "name": "stderr",
     "output_type": "stream",
     "text": [
      "54243 INFO: Note: NumExpr detected 12 cores but \"NUMEXPR_MAX_THREADS\" not set, so enforcing safe limit of 8.\n",
      "54244 INFO: NumExpr defaulting to 8 threads.\n",
      "56997 INFO: Successfully imported ClickHouse Connect C data optimizations\n",
      "57027 INFO: Using orjson library for writing JSON byte strings\n",
      "57460 INFO: Imported existing <module 'comtypes.gen' from 'C:\\\\Users\\\\Admin\\\\AppData\\\\Local\\\\Programs\\\\Python\\\\Python311\\\\Lib\\\\site-packages\\\\comtypes\\\\gen\\\\__init__.py'>\n",
      "57461 INFO: Using writeable comtypes cache directory: 'C:\\Users\\Admin\\AppData\\Local\\Programs\\Python\\Python311\\Lib\\site-packages\\comtypes\\gen'\n",
      "C:\\Users\\Admin\\AppData\\Local\\Programs\\Python\\Python311\\Lib\\pkgutil.py:92: UserWarning: The numpy.array_api submodule is still experimental. See NEP 47.\n",
      "  __import__(info.name)\n",
      "66331 INFO: Pandas backend loaded 2.0.3\n",
      "66402 INFO: Numpy backend loaded 1.23.5\n",
      "66404 INFO: Pyspark backend NOT loaded\n",
      "66405 INFO: Python backend loaded\n",
      "C:\\Users\\Admin\\AppData\\Local\\Programs\\Python\\Python311\\Lib\\site-packages\\_distutils_hack\\__init__.py:33: UserWarning: Setuptools is replacing distutils.\n",
      "  warnings.warn(\"Setuptools is replacing distutils.\")\n"
     ]
    },
    {
     "name": "stdout",
     "output_type": "stream",
     "text": [
      "pygame 2.4.0 (SDL 2.26.4, Python 3.11.3)\n",
      "Hello from the pygame community. https://www.pygame.org/contribute.html\n",
      "IPython             commctrl            mpl_toolkits        sspicon\n",
      "MySQLdb             compileall          mpmath              stack_data\n",
      "PIL                 comtypes            msilib              starlette\n",
      "PyInstaller         concurrent          msvcrt              start_pythonwin\n",
      "__future__          configparser        multidict           stat\n",
      "__hello__           contextlib          multimethod         statistics\n",
      "__phello__          contextvars         multipart           statsmodels\n",
      "_abc                contourpy           multiprocessing     streamlit\n",
      "_aix_support        copy                mypy_extensions     string\n",
      "_argon2_cffi_bindings copyreg             nbclassic           stringprep\n",
      "_ast                crypt               nbclient            struct\n",
      "_asyncio            cssselect           nbconvert           subprocess\n",
      "_bisect             cssutils            nbformat            sunau\n",
      "_blake2             csv                 nest_asyncio        sympy\n",
      "_bootsubprocess     ctypes              netbios             symtable\n",
      "_bz2                curses              netrc               sys\n",
      "_cffi_backend       cycler              networkx            sysconfig\n",
      "_codecs             dacite              nntplib             tabnanny\n",
      "_codecs_cn          dataclasses         notebook            tangled_up_in_unicode\n",
      "_codecs_hk          dataclasses_json    notebook_shim       tarfile\n",
      "_codecs_iso2022     datetime            nt                  telnetlib\n",
      "_codecs_jp          dateutil            ntpath              tempfile\n",
      "_codecs_kr          dbi                 ntsecuritycon       tenacity\n",
      "_codecs_tw          dbm                 nturl2path          terminado\n",
      "_collections        dde                 numbers             test\n",
      "_collections_abc    debugpy             numexpr             textwrap\n",
      "_compat_pickle      decimal             numpy               this\n",
      "_compression        decorator           odbc                threading\n",
      "_contextvars        defusedxml          onnxruntime         threadpoolctl\n",
      "_csv                difflib             opcode              tiktoken\n",
      "_ctypes             dis                 openai              time\n",
      "_ctypes_test        distlib             openapi_schema_pydantic timeit\n",
      "_datetime           distutils           operator            timer\n",
      "_decimal            django              optparse            tinycss2\n",
      "_distutils_hack     doctest             ordlookup           tkinter\n",
      "_elementtree        dotenv              orjson              tlz\n",
      "_functools          duckdb              os                  token\n",
      "_hashlib            eel                 overrides           tokenize\n",
      "_heapq              email               packaging           tokenizers\n",
      "_imp                encodings           pandas              toml\n",
      "_io                 encutils            pandas_profiling    tomllib\n",
      "_json               ensurepip           pandocfilters       toolz\n",
      "_locale             enum                parso               tornado\n",
      "_lsprof             errno               past                tqdm\n",
      "_lzma               executing           pathlib             trace\n",
      "_markupbase         fastapi             patsy               traceback\n",
      "_md5                fastjsonschema      pdb                 tracemalloc\n",
      "_msi                faulthandler        pefile              traitlets\n",
      "_multibytecodec     ffmpy               perfmon             tty\n",
      "_multiprocessing    filecmp             peutils             turtle\n",
      "_opcode             fileinput           phik                turtledemo\n",
      "_operator           filelock            pickle              typeguard\n",
      "_osx_support        flask               pickleshare         types\n",
      "_overlapped         flask_mail          pickletools         typing\n",
      "_pickle             flask_sqlalchemy    pip                 typing_extensions\n",
      "_pulsar             flatbuffers         pipes               typing_inspect\n",
      "_py_abc             fnmatch             pkg_resources       tzdata\n",
      "_pydecimal          fontTools           pkgutil             tzlocal\n",
      "_pyinstaller_hooks_contrib fqdn                platform            uc_micro\n",
      "_pyio               fractions           platformdirs        unicodedata\n",
      "_pyrsistent_version frozenlist          plistlib            unittest\n",
      "_queue              fsspec              poplib              uri_template\n",
      "_random             ftplib              posixpath           urllib\n",
      "_sha1               functools           posthog             urllib3\n",
      "_sha256             future              pprint              uu\n",
      "_sha3               gc                  premailer           uuid\n",
      "_sha512             genericpath         profile             uvicorn\n",
      "_signal             getopt              prometheus_client   validators\n",
      "_sitebuiltins       getpass             prompt_toolkit      venv\n",
      "_socket             gettext             pstats              virtualenv\n",
      "_sqlite3            gevent              psutil              visions\n",
      "_sre                geventwebsocket     pty                 warnings\n",
      "_ssl                git                 pulsar              watchdog\n",
      "_stat               gitdb               pure_eval           watchfiles\n",
      "_statistics         glob                pvectorc            wave\n",
      "_string             gradio              py_compile          wcwidth\n",
      "_strptime           gradio_client       pyarrow             weakref\n",
      "_struct             graphlib            pyaudio             webbrowser\n",
      "_symtable           greenlet            pyautogui           webcolors\n",
      "_testbuffer         gzip                pyclbr              webencodings\n",
      "_testcapi           h11                 pycparser           websocket\n",
      "_testconsole        hashlib             pydantic            websockets\n",
      "_testimportmultiple heapq               pydeck              werkzeug\n",
      "_testinternalcapi   hmac                pydoc               whichcraft\n",
      "_testmultiphase     hnswlib             pydoc_data          widgetsnbextension\n",
      "_thread             html                pydub               wikipedia\n",
      "_threading_local    htmlmin             pyexpat             win2kras\n",
      "_tkinter            http                pygame              win32api\n",
      "_tokenize           httpcore            pygetwindow         win32clipboard\n",
      "_tracemalloc        httptools           pygments            win32com\n",
      "_typing             httpx               pylab               win32con\n",
      "_uuid               huggingface_hub     pympler             win32console\n",
      "_warnings           humanfriendly       pymsgbox            win32cred\n",
      "_weakref            idlelib             pyparsing           win32crypt\n",
      "_weakrefset         idna                pyperclip           win32cryptcon\n",
      "_win32sysloader     imagehash           pyreadline3         win32ctypes\n",
      "_winapi             imaplib             pyrect              win32event\n",
      "_winxptheme         imghdr              pyrsistent          win32evtlog\n",
      "_xxsubinterpreters  imp                 pyscreeze           win32evtlogutil\n",
      "_yaml               importlib           pythoncom           win32file\n",
      "_zoneinfo           importlib_metadata  pythonjsonlogger    win32gui\n",
      "abc                 importlib_resources pyttsx3             win32gui_struct\n",
      "adodbapi            inspect             pytweening          win32help\n",
      "afxres              io                  pytz                win32inet\n",
      "aifc                ipaddress           pytz_deprecation_shim win32inetcon\n",
      "aiofiles            ipykernel           pywhatkit           win32job\n",
      "aiohttp             ipykernel_launcher  pywin               win32lz\n",
      "aiosignal           ipython_genutils    pywin32_bootstrap   win32net\n",
      "altair              ipywidgets          pywin32_testutil    win32netcon\n",
      "altgraph            isapi               pywintypes          win32pdh\n",
      "antigravity         isoduration         pywt                win32pdhquery\n",
      "anyio               isympy              qtconsole           win32pdhutil\n",
      "argon2              itertools           qtpy                win32pipe\n",
      "argparse            itsdangerous        queue               win32print\n",
      "array               jedi                quopri              win32process\n",
      "arrow               jinja2              random              win32profile\n",
      "asgiref             joblib              rasutil             win32ras\n",
      "ast                 json                re                  win32rcparser\n",
      "asttokens           jsonpointer         readline            win32security\n",
      "async_timeout       jsonschema          regcheck            win32service\n",
      "asynchat            jupyter             regex               win32serviceutil\n",
      "asyncio             jupyter_client      regutil             win32timezone\n",
      "asyncore            jupyter_console     reprlib             win32trace\n",
      "atexit              jupyter_core        requests            win32traceutil\n",
      "attr                jupyter_events      rfc3339_validator   win32transaction\n",
      "attrs               jupyter_server      rfc3986_validator   win32ts\n",
      "audioop             jupyter_server_terminals rich                win32ui\n",
      "auto_py_to_exe      jupyterlab_pygments rlcompleter         win32uiole\n",
      "backcall            jupyterlab_widgets  runpy               win32verstamp\n",
      "backoff             keyword             sched               win32wnet\n",
      "base64              kiwisolver          scipy               winerror\n",
      "bdb                 langchain           seaborn             winioctlcon\n",
      "binascii            langchainplus_sdk   secrets             winnt\n",
      "bisect              lib2to3             select              winperf\n",
      "bleach              libfuturize         selectors           winpty\n",
      "blinker             libpasteurize       semantic_version    winreg\n",
      "bottle              linecache           send2trash          winsound\n",
      "bottle_websocket    linkify_it          servicemanager      winxpgui\n",
      "bs4                 locale              setuptools          winxptheme\n",
      "builtins            logging             shelve              word2number\n",
      "bz2                 lxml                shlex               wordcloud\n",
      "cProfile            lz4                 shutil              wsgiref\n",
      "cachetools          lzma                signal              xdrlib\n",
      "calendar            mailbox             site                xgboost\n",
      "certifi             mailcap             six                 xml\n",
      "cffi                markdown_it         sklearn             xmlrpc\n",
      "cgi                 markupsafe          smmap               xxsubtype\n",
      "cgitb               marshal             smtpd               yagmail\n",
      "charset_normalizer  marshmallow         smtplib             yaml\n",
      "chromadb            marshmallow_enum    sndhdr              yarl\n",
      "chunk               math                sniffio             ydata_profiling\n",
      "click               matplotlib          socket              zipapp\n",
      "clickhouse_connect  matplotlib_inline   socketserver        zipfile\n",
      "cmath               mdit_py_plugins     soupsieve           zipimport\n",
      "cmd                 mdurl               speech_recognition  zipp\n",
      "code                mimetypes           sqlalchemy          zlib\n",
      "codecs              mistune             sqlite3             zmq\n",
      "codeop              mmap                sqlparse            zoneinfo\n",
      "collections         mmapfile            sre_compile         zstandard\n",
      "colorama            mmsystem            sre_constants       ~andas\n",
      "coloredlogs         modulefinder        sre_parse           ~gboost\n",
      "colorsys            monotonic           ssl                 \n",
      "comm                mouseinfo           sspi                \n",
      "\n",
      "Enter any module name to get more help.  Or, type \"modules spam\" to search\n",
      "for modules whose name or summary contain the string \"spam\".\n",
      "\n"
     ]
    }
   ],
   "source": [
    "help('modules')"
   ]
  },
  {
   "cell_type": "markdown",
   "id": "cda1f3bb",
   "metadata": {},
   "source": [
    "### Built in modules"
   ]
  },
  {
   "cell_type": "markdown",
   "id": "7170c7aa",
   "metadata": {},
   "source": [
    "### What are modules?\n",
    "\n",
    "##### Consider a module to be the same as a code library.\n",
    "\n",
    "##### A file containing a set of functions you want to include in your application.\n",
    "\n",
    "##### Examples of python modules\n",
    "- Math\n",
    "- Random\n",
    "- os\n",
    "- time\n",
    "\n"
   ]
  },
  {
   "cell_type": "code",
   "execution_count": 37,
   "id": "f2d95cf5",
   "metadata": {},
   "outputs": [],
   "source": [
    "import os"
   ]
  },
  {
   "cell_type": "code",
   "execution_count": 38,
   "id": "a4d086e0",
   "metadata": {},
   "outputs": [
    {
     "data": {
      "text/plain": [
       "'C:\\\\Users\\\\Admin\\\\Desktop\\\\100days of ml learning\\\\pythonBasics'"
      ]
     },
     "execution_count": 38,
     "metadata": {},
     "output_type": "execute_result"
    }
   ],
   "source": [
    "os.getcwd()"
   ]
  },
  {
   "cell_type": "markdown",
   "id": "84639fcb",
   "metadata": {},
   "source": [
    "### data type -Strings "
   ]
  },
  {
   "cell_type": "markdown",
   "id": "0f6443eb",
   "metadata": {},
   "source": [
    "Strings are sequence of Characters\n",
    "\n",
    "In Python specifically, strings are a sequence of Unicode Characters\n",
    "\n",
    "- Creating Strings\n",
    "- Accessing Strings\n",
    "- Adding Chars to Strings\n",
    "- Editing Strings\n",
    "- Deleting Strings\n",
    "- Operations on Strings\n",
    "- String Functions"
   ]
  },
  {
   "cell_type": "code",
   "execution_count": 40,
   "id": "4dfc19ec",
   "metadata": {},
   "outputs": [
    {
     "name": "stdout",
     "output_type": "stream",
     "text": [
      "Hello\n"
     ]
    }
   ],
   "source": [
    "# Creating\n",
    "c = 'Hello'\n",
    "print(c)"
   ]
  },
  {
   "cell_type": "code",
   "execution_count": null,
   "id": "a7cb5224",
   "metadata": {},
   "outputs": [],
   "source": [
    "c = \"Hello\"\n",
    "print(c)"
   ]
  },
  {
   "cell_type": "code",
   "execution_count": null,
   "id": "2a96e9ca",
   "metadata": {},
   "outputs": [],
   "source": [
    "c = '''Hello'''\n",
    "print(c)\n",
    "# multi line strings"
   ]
  },
  {
   "cell_type": "code",
   "execution_count": null,
   "id": "901e4953",
   "metadata": {},
   "outputs": [],
   "source": [
    "c = \"\"\"Hello\"\"\"\n",
    "print(c)"
   ]
  },
  {
   "cell_type": "code",
   "execution_count": null,
   "id": "64ec012b",
   "metadata": {},
   "outputs": [],
   "source": [
    "c = str(\"Hello\")\n",
    "c"
   ]
  },
  {
   "cell_type": "markdown",
   "id": "87835661",
   "metadata": {},
   "source": [
    "### Accessing Substrings from a String\n",
    "#### Concept of Indexing\n",
    "\n",
    "Types of Indexing <br>\n",
    "Postive Indexing  <br>\n",
    "Negative Indexing <br>\n",
    "     "
   ]
  },
  {
   "cell_type": "markdown",
   "id": "601eeb8a",
   "metadata": {},
   "source": [
    "### Editing and Deleting in Strings\n"
   ]
  },
  {
   "cell_type": "code",
   "execution_count": null,
   "id": "940aea72",
   "metadata": {},
   "outputs": [],
   "source": [
    "## Strings are a Immutable Data Type\n",
    "# deletion\n",
    "c = \"this\"\n",
    "print(c)"
   ]
  },
  {
   "cell_type": "code",
   "execution_count": null,
   "id": "e82f2a91",
   "metadata": {},
   "outputs": [],
   "source": [
    "del c \n",
    "print(c)"
   ]
  },
  {
   "cell_type": "markdown",
   "id": "8b486612",
   "metadata": {},
   "source": [
    "#### Operations on Strings\n",
    "Arithmetic Operations <br>\n",
    "Relational Operations <br>\n",
    "Logical Operations  (Lexiographically)<br> \n",
    "Loops on Strings <br>\n",
    "Membership Operations <br>"
   ]
  },
  {
   "cell_type": "markdown",
   "id": "f9d33638",
   "metadata": {},
   "source": [
    "### Common Functions\n",
    "\n",
    "- len\n",
    "- max\n",
    "- min\n",
    "- sorted"
   ]
  },
  {
   "cell_type": "markdown",
   "id": "3969ce80",
   "metadata": {},
   "source": [
    "1. Capitalize/Title/Upper/Lower/Swapcase\n",
    "2. Count\n",
    "3. Find/Index\n",
    "4. endswith/startswith\n",
    "5. format\n",
    "6. isalnum/ isalpha/ isdecimal/ isdigit/ isidentifier\n",
    "7. Split\n",
    "8. Join\n",
    "9. Replace\n",
    "10. Strip"
   ]
  },
  {
   "cell_type": "code",
   "execution_count": null,
   "id": "3a45f84f",
   "metadata": {},
   "outputs": [],
   "source": [
    "string1 = \"this is a string\"\n",
    "for i in string1.split():\n",
    "    print(i.capitalize(),end=\" \")"
   ]
  },
  {
   "cell_type": "markdown",
   "id": "1c114429",
   "metadata": {},
   "source": [
    "### Tuple\n",
    "tuples are inmutable tuples are read only data type<br>\n",
    "we cannot add, delete the touple <br>\n",
    "functions are like list"
   ]
  },
  {
   "cell_type": "markdown",
   "id": "efb2e4cb",
   "metadata": {},
   "source": [
    "### Sets\n",
    " *rules*\n",
    " - sets do not allow duplicates\n",
    " - sets have no indexing/sclicing\n",
    " - sets don't allow immutable data types(tuple, string)\n",
    " - set itself is a mutable data type\n",
    " (we ca add, delete items in set)\n"
   ]
  },
  {
   "cell_type": "code",
   "execution_count": null,
   "id": "3eb1da6e",
   "metadata": {},
   "outputs": [],
   "source": [
    "#creating empty set\n",
    "s1 = set()"
   ]
  },
  {
   "cell_type": "code",
   "execution_count": null,
   "id": "03292c99",
   "metadata": {},
   "outputs": [],
   "source": [
    "type(s1)"
   ]
  },
  {
   "cell_type": "code",
   "execution_count": null,
   "id": "795d8e68",
   "metadata": {},
   "outputs": [],
   "source": [
    "s2 = {\"change the set\"}\n",
    "s2"
   ]
  },
  {
   "cell_type": "code",
   "execution_count": null,
   "id": "d762ddf6",
   "metadata": {},
   "outputs": [],
   "source": [
    "s2[1] = \"WOW\""
   ]
  },
  {
   "cell_type": "code",
   "execution_count": null,
   "id": "b10d64ac",
   "metadata": {},
   "outputs": [],
   "source": [
    "l1 = list(s2)\n",
    "l1"
   ]
  },
  {
   "cell_type": "code",
   "execution_count": null,
   "id": "e25da370",
   "metadata": {},
   "outputs": [],
   "source": [
    "l1[1] = \"WOW\"\n",
    "l1"
   ]
  },
  {
   "cell_type": "code",
   "execution_count": null,
   "id": "8d2a8a7e",
   "metadata": {},
   "outputs": [],
   "source": [
    "ss = {1,2,3}\n",
    "ll = list(ss)"
   ]
  },
  {
   "cell_type": "code",
   "execution_count": null,
   "id": "2964a77f",
   "metadata": {},
   "outputs": [],
   "source": [
    "ll[0] = 0\n",
    "ll"
   ]
  },
  {
   "cell_type": "code",
   "execution_count": null,
   "id": "aa5e5847",
   "metadata": {},
   "outputs": [],
   "source": [
    "ss = set(ll)"
   ]
  },
  {
   "cell_type": "code",
   "execution_count": null,
   "id": "e031e626",
   "metadata": {},
   "outputs": [],
   "source": [
    "ss"
   ]
  },
  {
   "cell_type": "code",
   "execution_count": null,
   "id": "2c04ee18",
   "metadata": {},
   "outputs": [],
   "source": [
    "#del\n",
    "#remove\n",
    "#pop"
   ]
  },
  {
   "cell_type": "markdown",
   "id": "0b35b419",
   "metadata": {},
   "source": [
    "we cannot +,* in sets <br>\n",
    "fuctions same as list functions\n",
    "- union, intersection, difference, isdisjoint, issuset, issuperset"
   ]
  },
  {
   "cell_type": "markdown",
   "id": "cd59dc6f",
   "metadata": {},
   "source": [
    "### Dictionary\n",
    "def - is a collection of key value pairs <br>\n",
    "*rules*\n",
    "-dict has no indexing <br>\n",
    "-dict is a mutable data type <br>\n",
    "-keys->immutable , values -> they can be mutable <br>\n",
    "-keys should be unique <br>\n",
    "-mutable -->List/Sets/Dictonary <br>\n",
    "-immutable -->String/Tuples <br>\n"
   ]
  },
  {
   "cell_type": "code",
   "execution_count": null,
   "id": "9a5886a1",
   "metadata": {},
   "outputs": [],
   "source": [
    "# wecan\n",
    "#add\n",
    "#delete\n",
    "#clear\n",
    "# in dictonary"
   ]
  },
  {
   "cell_type": "markdown",
   "id": "eb1b10bc",
   "metadata": {},
   "source": [
    "operations in dict <br>\n",
    "-loops - for, while <br>\n",
    "-membership - in, not in"
   ]
  },
  {
   "cell_type": "markdown",
   "id": "39ae8f66",
   "metadata": {},
   "source": [
    "*function*\n",
    "-min\n",
    "-max\n",
    "-sorted"
   ]
  },
  {
   "cell_type": "code",
   "execution_count": null,
   "id": "08d07be3",
   "metadata": {},
   "outputs": [],
   "source": [
    "a = \"corona\"\n",
    "b = a\n",
    "c = b\n",
    "sys.getrefcount(a)"
   ]
  },
  {
   "cell_type": "markdown",
   "id": "f36716e9",
   "metadata": {},
   "source": [
    "### Function in python\n",
    "Syntax<br>\n",
    "<br>\n",
    "def demo_function(parameter):<br>\n",
    "    \"\"\"<br>\n",
    "    function documentation<br>\n",
    "    \"\"\"<br>\n",
    "    //code<br>\n",
    "x = demo_function(argument)    <br>\n",
    "print(x)<br>"
   ]
  },
  {
   "cell_type": "markdown",
   "id": "32fc91d4",
   "metadata": {},
   "source": [
    "#### Srgumments and there\n",
    "  *types*\n",
    "- Default Arguments\n",
    "- Postional Arguments\n",
    "- Keyword Arguments\n",
    "- Arbitary Arguments"
   ]
  },
  {
   "cell_type": "markdown",
   "id": "fd78b932",
   "metadata": {},
   "source": [
    "#### What we can do with functions\n",
    "- rename\n",
    "- delete\n",
    "- sort\n",
    "- return \n",
    "- function as argument\n",
    "#### Benifits of using functions\n",
    "-  code modularity\n",
    "-  code reusability\n",
    "-  code readability"
   ]
  },
  {
   "cell_type": "markdown",
   "id": "f3cdfd64",
   "metadata": {},
   "source": [
    "#### Recursion\n"
   ]
  },
  {
   "cell_type": "code",
   "execution_count": 3,
   "id": "e16e4e78",
   "metadata": {},
   "outputs": [
    {
     "name": "stdout",
     "output_type": "stream",
     "text": [
      "6\n"
     ]
    }
   ],
   "source": [
    "#find factorial using recursion \n",
    "def fact(num):\n",
    "    if num == 1:\n",
    "        return 1\n",
    "    else:\n",
    "      return  num * fact(num-1)\n",
    "    \n",
    "print(fact(3))"
   ]
  },
  {
   "cell_type": "code",
   "execution_count": 9,
   "id": "817994bb",
   "metadata": {},
   "outputs": [
    {
     "data": {
      "text/plain": [
       "30"
      ]
     },
     "execution_count": 9,
     "metadata": {},
     "output_type": "execute_result"
    }
   ],
   "source": [
    "#find multiplication using recursion\n",
    "def mul(a,b):\n",
    "    num = 0\n",
    "    if b == 1:\n",
    "        return a\n",
    "    else:\n",
    "        num = a + mul(a,b-1)\n",
    "        return num\n",
    "mul(3,10)"
   ]
  },
  {
   "cell_type": "code",
   "execution_count": 29,
   "id": "6590ad59",
   "metadata": {},
   "outputs": [
    {
     "name": "stdout",
     "output_type": "stream",
     "text": [
      "Palindrome\n",
      "Not Palindrome\n"
     ]
    }
   ],
   "source": [
    "#find a string is palindrome or not\n",
    "def palindrome(string):\n",
    "    if len(string) <= 1:\n",
    "        print(\"Palindrome\")\n",
    "    else:\n",
    "        if string[0] == string[-1]:\n",
    "            palindrome(string[1:-1])\n",
    "        else:\n",
    "            print(\"Not Palindrome\")\n",
    "    \n",
    "palindrome(\"madam\")        \n",
    "palindrome(\"sumed\")"
   ]
  },
  {
   "cell_type": "code",
   "execution_count": 38,
   "id": "5718290e",
   "metadata": {},
   "outputs": [
    {
     "name": "stdout",
     "output_type": "stream",
     "text": [
      "91.19816160202026\n"
     ]
    }
   ],
   "source": [
    "#find fibonacci series\n",
    "import time\n",
    "def fib(m):\n",
    "    if m == 0 or m == 1:\n",
    "        return 1\n",
    "    else:\n",
    "        return fib(m-1) + fib(m-2)\n",
    "start = time.time()\n",
    "fib(43)\n",
    "print(time.time()-start)"
   ]
  },
  {
   "cell_type": "code",
   "execution_count": 39,
   "id": "32eb6da5",
   "metadata": {},
   "outputs": [
    {
     "name": "stdout",
     "output_type": "stream",
     "text": [
      "2636.929469347\n"
     ]
    }
   ],
   "source": [
    "#find fibonacci series\n",
    "import time\n",
    "def fib(m):\n",
    "    if m == 0 or m == 1:\n",
    "        return 1\n",
    "    else:\n",
    "        return fib(m-1) + fib(m-2)\n",
    "start = time.time() \n",
    "fib(50)\n",
    "print(time.time()-start)"
   ]
  },
  {
   "cell_type": "code",
   "execution_count": 16,
   "id": "6a756ce0",
   "metadata": {},
   "outputs": [
    {
     "name": "stdout",
     "output_type": "stream",
     "text": [
      "225591516161936330872512695036072072046011324913758190588638866418474627738686883405015987052796968498626\n",
      "0.0\n"
     ]
    }
   ],
   "source": [
    "import time\n",
    "\n",
    "def fibonacci(m,d):\n",
    "    if m in d:\n",
    "        return d[m]\n",
    "    else:\n",
    "        d[m] = fibonacci(m-1,d) + fibonacci(m-2,d)\n",
    "        return d[m]\n",
    "d = {0:1,1:1}\n",
    "start = time.time()\n",
    "print(fibonacci(500,d))\n",
    "print(time.time()-start)"
   ]
  },
  {
   "cell_type": "code",
   "execution_count": null,
   "id": "606d87c6",
   "metadata": {},
   "outputs": [],
   "source": []
  },
  {
   "cell_type": "code",
   "execution_count": 6,
   "id": "516436c0",
   "metadata": {},
   "outputs": [
    {
     "ename": "RecursionError",
     "evalue": "maximum recursion depth exceeded",
     "output_type": "error",
     "traceback": [
      "\u001b[1;31m---------------------------------------------------------------------------\u001b[0m",
      "\u001b[1;31mRecursionError\u001b[0m                            Traceback (most recent call last)",
      "Cell \u001b[1;32mIn[6], line 7\u001b[0m\n\u001b[0;32m      5\u001b[0m     \u001b[38;5;28;01melse\u001b[39;00m:\n\u001b[0;32m      6\u001b[0m         \u001b[38;5;28;01mreturn\u001b[39;00m powerset(n) \u001b[38;5;241m+\u001b[39m powerset(n) \n\u001b[1;32m----> 7\u001b[0m \u001b[38;5;28mprint\u001b[39m(\u001b[43mpowerset\u001b[49m\u001b[43m(\u001b[49m\u001b[38;5;241;43m5\u001b[39;49m\u001b[43m)\u001b[49m)\n",
      "Cell \u001b[1;32mIn[6], line 6\u001b[0m, in \u001b[0;36mpowerset\u001b[1;34m(n)\u001b[0m\n\u001b[0;32m      4\u001b[0m     \u001b[38;5;28;01mreturn\u001b[39;00m n\u001b[38;5;241m+\u001b[39m\u001b[38;5;241m1\u001b[39m\n\u001b[0;32m      5\u001b[0m \u001b[38;5;28;01melse\u001b[39;00m:\n\u001b[1;32m----> 6\u001b[0m     \u001b[38;5;28;01mreturn\u001b[39;00m \u001b[43mpowerset\u001b[49m\u001b[43m(\u001b[49m\u001b[43mn\u001b[49m\u001b[43m)\u001b[49m \u001b[38;5;241m+\u001b[39m powerset(n)\n",
      "Cell \u001b[1;32mIn[6], line 6\u001b[0m, in \u001b[0;36mpowerset\u001b[1;34m(n)\u001b[0m\n\u001b[0;32m      4\u001b[0m     \u001b[38;5;28;01mreturn\u001b[39;00m n\u001b[38;5;241m+\u001b[39m\u001b[38;5;241m1\u001b[39m\n\u001b[0;32m      5\u001b[0m \u001b[38;5;28;01melse\u001b[39;00m:\n\u001b[1;32m----> 6\u001b[0m     \u001b[38;5;28;01mreturn\u001b[39;00m \u001b[43mpowerset\u001b[49m\u001b[43m(\u001b[49m\u001b[43mn\u001b[49m\u001b[43m)\u001b[49m \u001b[38;5;241m+\u001b[39m powerset(n)\n",
      "    \u001b[1;31m[... skipping similar frames: powerset at line 6 (2971 times)]\u001b[0m\n",
      "Cell \u001b[1;32mIn[6], line 6\u001b[0m, in \u001b[0;36mpowerset\u001b[1;34m(n)\u001b[0m\n\u001b[0;32m      4\u001b[0m     \u001b[38;5;28;01mreturn\u001b[39;00m n\u001b[38;5;241m+\u001b[39m\u001b[38;5;241m1\u001b[39m\n\u001b[0;32m      5\u001b[0m \u001b[38;5;28;01melse\u001b[39;00m:\n\u001b[1;32m----> 6\u001b[0m     \u001b[38;5;28;01mreturn\u001b[39;00m \u001b[43mpowerset\u001b[49m\u001b[43m(\u001b[49m\u001b[43mn\u001b[49m\u001b[43m)\u001b[49m \u001b[38;5;241m+\u001b[39m powerset(n)\n",
      "\u001b[1;31mRecursionError\u001b[0m: maximum recursion depth exceeded"
     ]
    }
   ],
   "source": [
    "#power set \n",
    "def powerset(n):\n",
    "    if n == 1:\n",
    "        return n+1\n",
    "    else:\n",
    "        return powerset(n) + powerset(n) \n",
    "print(powerset(5))"
   ]
  },
  {
   "cell_type": "code",
   "execution_count": null,
   "id": "b26c036f",
   "metadata": {},
   "outputs": [],
   "source": []
  },
  {
   "cell_type": "markdown",
   "id": "a4a06839",
   "metadata": {},
   "source": [
    "\n",
    "### lambda function\n",
    "syntax: <br>\n",
    " lambda x,y: x + y <br>\n",
    " *Difference*\n",
    " - lambda has no return value\n",
    " - lambda is a one liner\n",
    " - not used for code reusability\n",
    " - no name\n",
    " \n",
    " *when to use lambda finc* <br>\n",
    " - along with higher order function\n",
    " - we can use as a object\n",
    " - we can use as a conditional also\n",
    " \n",
    " ### HOF (higher order function)"
   ]
  },
  {
   "cell_type": "code",
   "execution_count": 20,
   "id": "be2ff143",
   "metadata": {},
   "outputs": [],
   "source": [
    "x = lambda x: x*x"
   ]
  },
  {
   "cell_type": "code",
   "execution_count": 24,
   "id": "66967377",
   "metadata": {},
   "outputs": [
    {
     "data": {
      "text/plain": [
       "625"
      ]
     },
     "execution_count": 24,
     "metadata": {},
     "output_type": "execute_result"
    }
   ],
   "source": [
    "x(25)"
   ]
  },
  {
   "cell_type": "code",
   "execution_count": 30,
   "id": "f932677d",
   "metadata": {},
   "outputs": [
    {
     "data": {
      "text/plain": [
       "[False, True, False, True, False, True, False, True]"
      ]
     },
     "execution_count": 30,
     "metadata": {},
     "output_type": "execute_result"
    }
   ],
   "source": [
    "##Map\n",
    "l = [1,2,3,4,5,6,7,8]\n",
    "mm = map(lambda x:x%2==0,l)\n",
    "list(mm)"
   ]
  },
  {
   "cell_type": "code",
   "execution_count": 33,
   "id": "e5446ab7",
   "metadata": {},
   "outputs": [
    {
     "data": {
      "text/plain": [
       "[5, 6, 7, 8]"
      ]
     },
     "execution_count": 33,
     "metadata": {},
     "output_type": "execute_result"
    }
   ],
   "source": [
    "##Filter\n",
    "list(filter(lambda x: x > 4,l))"
   ]
  },
  {
   "cell_type": "code",
   "execution_count": 34,
   "id": "76f6101d",
   "metadata": {},
   "outputs": [
    {
     "data": {
      "text/plain": [
       "36"
      ]
     },
     "execution_count": 34,
     "metadata": {},
     "output_type": "execute_result"
    }
   ],
   "source": [
    "##Reduced\n",
    "import functools\n",
    "functools.reduce(lambda x,y: x +y,l)\n"
   ]
  },
  {
   "cell_type": "code",
   "execution_count": 35,
   "id": "03b5f349",
   "metadata": {},
   "outputs": [
    {
     "data": {
      "text/plain": [
       "8"
      ]
     },
     "execution_count": 35,
     "metadata": {},
     "output_type": "execute_result"
    }
   ],
   "source": [
    "functools.reduce(lambda x,y:x if x>y else y, l)"
   ]
  },
  {
   "cell_type": "code",
   "execution_count": 36,
   "id": "954718e9",
   "metadata": {},
   "outputs": [
    {
     "data": {
      "text/plain": [
       "1"
      ]
     },
     "execution_count": 36,
     "metadata": {},
     "output_type": "execute_result"
    }
   ],
   "source": [
    "functools.reduce(lambda x,y:x if x<y else y, l)"
   ]
  },
  {
   "cell_type": "code",
   "execution_count": 38,
   "id": "14ed5c2d",
   "metadata": {},
   "outputs": [
    {
     "data": {
      "text/plain": [
       "[1, 4, 9, 16, 25, 36, 49, 64]"
      ]
     },
     "execution_count": 38,
     "metadata": {},
     "output_type": "execute_result"
    }
   ],
   "source": [
    "#list comprihension\n",
    "l2 = [i**2 for i in l]\n",
    "l2"
   ]
  },
  {
   "cell_type": "code",
   "execution_count": null,
   "id": "0acb2e0b",
   "metadata": {},
   "outputs": [],
   "source": []
  },
  {
   "cell_type": "markdown",
   "id": "e7a6e9e6",
   "metadata": {},
   "source": [
    "# 2.OOP (object oriented programming)"
   ]
  },
  {
   "cell_type": "code",
   "execution_count": 39,
   "id": "41c31df7",
   "metadata": {},
   "outputs": [],
   "source": [
    "#in python everything is an object\n",
    "#class obects are mutable like list,dict and sets\n"
   ]
  },
  {
   "cell_type": "markdown",
   "id": "e804dabe",
   "metadata": {},
   "source": [
    "#object literal\n",
    "1. Car........>Wagnor // wagnor = Car()\n",
    "2. Sports......>cricket // cricket = Sports()\n",
    "3. Animal.......>Lion // lion = Animal()"
   ]
  },
  {
   "cell_type": "markdown",
   "id": "29cc7276",
   "metadata": {},
   "source": [
    "#Function"
   ]
  },
  {
   "cell_type": "code",
   "execution_count": 1,
   "id": "697dcd84",
   "metadata": {},
   "outputs": [],
   "source": [
    "#inheritance"
   ]
  },
  {
   "cell_type": "markdown",
   "id": "539f9d94",
   "metadata": {},
   "source": [
    "#varables of 2 types\n",
    "1. class or static\n",
    "2. instance"
   ]
  },
  {
   "cell_type": "markdown",
   "id": "61b8fbc9",
   "metadata": {},
   "source": [
    "### Relationship\n",
    "           :-------------------------------------:\n",
    "        Aggrigation                         Inheritance\n",
    "         (Has -A)                            (Is - A)"
   ]
  },
  {
   "cell_type": "markdown",
   "id": "3b0c0dff",
   "metadata": {},
   "source": [
    "#### Inheritence\n",
    "what can inherite with inheritence\n",
    "- data members / variables\n",
    "- methods\n",
    "- constructors <br>\n",
    "\n",
    "what cannot\n",
    "- private member"
   ]
  },
  {
   "cell_type": "markdown",
   "id": "b9aae21e",
   "metadata": {},
   "source": [
    "##### Types of inheritences\n",
    "1. single-level\n",
    "2. multi-level\n",
    "3. hierarchical\n",
    "4. multiple\n",
    "5. hybrid"
   ]
  },
  {
   "cell_type": "code",
   "execution_count": 5,
   "id": "0f78a7a4",
   "metadata": {},
   "outputs": [],
   "source": [
    "# MRO (method resoltion order)\n",
    "#Polymorphism\n",
    "# Mehtod overriding\n",
    "# Method overloading\n",
    "# Operator Overloading"
   ]
  },
  {
   "cell_type": "markdown",
   "id": "03735cf8",
   "metadata": {},
   "source": [
    "# 3. Advance Topics"
   ]
  },
  {
   "cell_type": "markdown",
   "id": "c76ed6fd",
   "metadata": {},
   "source": [
    "### File Handling"
   ]
  },
  {
   "cell_type": "markdown",
   "id": "bd3dcb0e",
   "metadata": {},
   "source": [
    "#### Types of files (binary and text)\n",
    "1. image\n",
    "2. text\n",
    "3. executable\n",
    "4. audio"
   ]
  },
  {
   "cell_type": "markdown",
   "id": "5d62abbd",
   "metadata": {},
   "source": [
    "Operations with file handling  <br>\n",
    "CRUD <br>\n",
    "crate,   Read,   Update,  Delete <br>"
   ]
  },
  {
   "cell_type": "markdown",
   "id": "70ebdf83",
   "metadata": {},
   "source": [
    "syntax for opening file <br>\n",
    "open(filename, mode)\n"
   ]
  },
  {
   "cell_type": "code",
   "execution_count": 44,
   "id": "7ba4bdbb",
   "metadata": {},
   "outputs": [],
   "source": [
    "file = open('demo.txt')"
   ]
  },
  {
   "cell_type": "code",
   "execution_count": 45,
   "id": "1352a7ae",
   "metadata": {},
   "outputs": [
    {
     "name": "stdout",
     "output_type": "stream",
     "text": [
      "['hello guys!\\n', 'Paragraphs are the building blocks of papers. Many students define paragraphs in terms of length: a paragraph is a group of at least five sentences, a paragraph is half a page long, etc. In reality, though, the unity and coherence of ideas among sentences is what constitutes a paragraph.']\n"
     ]
    }
   ],
   "source": [
    "print(file.readlines())"
   ]
  },
  {
   "cell_type": "code",
   "execution_count": 46,
   "id": "e610223b",
   "metadata": {},
   "outputs": [],
   "source": [
    "# for line in file:\n",
    "#     print(file.readlines())\n"
   ]
  },
  {
   "cell_type": "markdown",
   "id": "530ac4db",
   "metadata": {},
   "source": [
    "### Exception handling"
   ]
  },
  {
   "cell_type": "markdown",
   "id": "6f7a79bc",
   "metadata": {},
   "source": [
    "syntax: <br>\n",
    "    try: <br>\n",
    "    ------//code <br>\n",
    "    except Exception: <br>\n",
    "    ------print(\"Exception\") <br>"
   ]
  },
  {
   "cell_type": "code",
   "execution_count": 7,
   "id": "18ec1006",
   "metadata": {},
   "outputs": [
    {
     "name": "stdout",
     "output_type": "stream",
     "text": [
      "[Errno 2] No such file or directory: 'temp.txt'\n"
     ]
    }
   ],
   "source": [
    "try:\n",
    "    file = open('temp.txt','r')\n",
    "except FileNotFoundError as e:\n",
    "    print(e)"
   ]
  },
  {
   "cell_type": "code",
   "execution_count": 8,
   "id": "7fa95810",
   "metadata": {},
   "outputs": [],
   "source": [
    "# raise exception\n",
    "# finally claus\n"
   ]
  },
  {
   "cell_type": "markdown",
   "id": "1f0f95c5",
   "metadata": {},
   "source": [
    "### Regular expression"
   ]
  },
  {
   "cell_type": "code",
   "execution_count": 21,
   "id": "2f4c38d1",
   "metadata": {},
   "outputs": [],
   "source": [
    "import re"
   ]
  },
  {
   "cell_type": "code",
   "execution_count": 22,
   "id": "c189e9f0",
   "metadata": {},
   "outputs": [],
   "source": [
    " sentence = '''The Kingdom of Sikkim was founded by the Namgyal dynasty in the 17th century. It was ruled by Buddhist priest-kings known as the Chogyal. It became a princely state of the British Indian Empire in 1890. Following Indian independence, Sikkim continued its protectorate status with the Union of India after 1947 and the Republic of India after 1950. It enjoyed the highest literacy rate and per capita income among Himalayan states. In 1973, anti-royalist riots took place in front of the Chogyal's palace. In 1975, after the Indian Army took over the city of Gangtok, a referendum was held that led to the dissolution of the monarchy and Sikkim joining India as its 22nd state.[12] '''"
   ]
  },
  {
   "cell_type": "code",
   "execution_count": 41,
   "id": "2a701630",
   "metadata": {},
   "outputs": [],
   "source": [
    "pattern = re.compile(r'\\s\\d')\n",
    "matches = pattern.finditer(sentence)"
   ]
  },
  {
   "cell_type": "code",
   "execution_count": 42,
   "id": "b42cb8d6",
   "metadata": {},
   "outputs": [
    {
     "name": "stdout",
     "output_type": "stream",
     "text": [
      "<re.Match object; span=(63, 65), match=' 1'>\n",
      "<re.Match object; span=(196, 198), match=' 1'>\n",
      "<re.Match object; span=(304, 306), match=' 1'>\n",
      "<re.Match object; span=(341, 343), match=' 1'>\n",
      "<re.Match object; span=(433, 435), match=' 1'>\n",
      "<re.Match object; span=(507, 509), match=' 1'>\n",
      "<re.Match object; span=(664, 666), match=' 2'>\n"
     ]
    }
   ],
   "source": [
    "for match in matches:\n",
    "    print(match)"
   ]
  },
  {
   "cell_type": "markdown",
   "id": "28607e47",
   "metadata": {},
   "source": [
    "### Functional Programming"
   ]
  },
  {
   "cell_type": "code",
   "execution_count": 45,
   "id": "563c015c",
   "metadata": {},
   "outputs": [],
   "source": [
    "#pure \n",
    "#idempotent\n",
    "# no global state\n",
    "# cannot change arguments\n",
    "# results depends on arguments"
   ]
  },
  {
   "cell_type": "code",
   "execution_count": 46,
   "id": "ba9a2d5a",
   "metadata": {},
   "outputs": [],
   "source": [
    "# in functional Programming\n",
    "#functions are first calss\n",
    "# lambda calculus\n",
    "#recursion\n",
    "   # - tail recursion"
   ]
  },
  {
   "cell_type": "code",
   "execution_count": 47,
   "id": "ff26e751",
   "metadata": {},
   "outputs": [],
   "source": [
    "# Procedural programming\n",
    "#recipe\n",
    "#sepcific instruction\n",
    "#global state"
   ]
  },
  {
   "cell_type": "code",
   "execution_count": 48,
   "id": "f35bd041",
   "metadata": {},
   "outputs": [],
   "source": [
    "#lazy Evaluation (generators in python)"
   ]
  },
  {
   "cell_type": "code",
   "execution_count": 49,
   "id": "5be350d2",
   "metadata": {},
   "outputs": [],
   "source": [
    "#lambda functional programming"
   ]
  },
  {
   "cell_type": "code",
   "execution_count": 50,
   "id": "ce4ba591",
   "metadata": {},
   "outputs": [],
   "source": [
    "#map function"
   ]
  },
  {
   "cell_type": "code",
   "execution_count": 51,
   "id": "0d2f3f92",
   "metadata": {},
   "outputs": [],
   "source": [
    "#zip \n",
    "#series of iterable\n",
    "#zip(iterable,....)-> iterable"
   ]
  },
  {
   "cell_type": "code",
   "execution_count": 52,
   "id": "554b2870",
   "metadata": {},
   "outputs": [],
   "source": [
    "#functools"
   ]
  },
  {
   "cell_type": "markdown",
   "id": "ce477cbe",
   "metadata": {},
   "source": [
    "### Basics of Flask"
   ]
  },
  {
   "cell_type": "code",
   "execution_count": 53,
   "id": "dc8d62bf",
   "metadata": {},
   "outputs": [
    {
     "name": "stdout",
     "output_type": "stream",
     "text": [
      "Requirement already satisfied: flask in c:\\users\\admin\\appdata\\local\\programs\\python\\python311\\lib\\site-packages (2.3.2)\n",
      "Requirement already satisfied: Werkzeug>=2.3.3 in c:\\users\\admin\\appdata\\local\\programs\\python\\python311\\lib\\site-packages (from flask) (2.3.3)\n",
      "Requirement already satisfied: Jinja2>=3.1.2 in c:\\users\\admin\\appdata\\local\\programs\\python\\python311\\lib\\site-packages (from flask) (3.1.2)\n",
      "Requirement already satisfied: itsdangerous>=2.1.2 in c:\\users\\admin\\appdata\\local\\programs\\python\\python311\\lib\\site-packages (from flask) (2.1.2)\n",
      "Requirement already satisfied: click>=8.1.3 in c:\\users\\admin\\appdata\\local\\programs\\python\\python311\\lib\\site-packages (from flask) (8.1.3)\n",
      "Requirement already satisfied: blinker>=1.6.2 in c:\\users\\admin\\appdata\\local\\programs\\python\\python311\\lib\\site-packages (from flask) (1.6.2)\n",
      "Requirement already satisfied: colorama in c:\\users\\admin\\appdata\\local\\programs\\python\\python311\\lib\\site-packages (from click>=8.1.3->flask) (0.4.6)\n",
      "Requirement already satisfied: MarkupSafe>=2.0 in c:\\users\\admin\\appdata\\local\\programs\\python\\python311\\lib\\site-packages (from Jinja2>=3.1.2->flask) (2.1.2)\n"
     ]
    },
    {
     "name": "stderr",
     "output_type": "stream",
     "text": [
      "\n",
      "[notice] A new release of pip is available: 23.2.1 -> 23.3.2\n",
      "[notice] To update, run: python.exe -m pip install --upgrade pip\n"
     ]
    }
   ],
   "source": [
    "!pip install flask"
   ]
  },
  {
   "cell_type": "code",
   "execution_count": 55,
   "id": "e5361b9d",
   "metadata": {},
   "outputs": [],
   "source": [
    "from flask import Flask"
   ]
  },
  {
   "cell_type": "code",
   "execution_count": 64,
   "id": "86f97b10",
   "metadata": {},
   "outputs": [
    {
     "name": "stdout",
     "output_type": "stream",
     "text": [
      " * Serving Flask app '__main__'\n",
      " * Debug mode: on\n"
     ]
    },
    {
     "name": "stderr",
     "output_type": "stream",
     "text": [
      "WARNING: This is a development server. Do not use it in a production deployment. Use a production WSGI server instead.\n",
      " * Running on http://127.0.0.1:5000\n",
      "Press CTRL+C to quit\n",
      " * Restarting with watchdog (windowsapi)\n"
     ]
    },
    {
     "ename": "SystemExit",
     "evalue": "1",
     "output_type": "error",
     "traceback": [
      "An exception has occurred, use %tb to see the full traceback.\n",
      "\u001b[1;31mSystemExit\u001b[0m\u001b[1;31m:\u001b[0m 1\n"
     ]
    }
   ],
   "source": [
    "app = Flask(__name__)\n",
    "\n",
    "@app.route(\"/\")\n",
    "def greet():\n",
    "    return  \"this is a Flask\"\n",
    "if __name__ == '__main__':\n",
    "    app.run(debug=True)"
   ]
  },
  {
   "cell_type": "code",
   "execution_count": null,
   "id": "45abbe89",
   "metadata": {},
   "outputs": [],
   "source": []
  }
 ],
 "metadata": {
  "kernelspec": {
   "display_name": "Python 3 (ipykernel)",
   "language": "python",
   "name": "python3"
  },
  "language_info": {
   "codemirror_mode": {
    "name": "ipython",
    "version": 3
   },
   "file_extension": ".py",
   "mimetype": "text/x-python",
   "name": "python",
   "nbconvert_exporter": "python",
   "pygments_lexer": "ipython3",
   "version": "3.11.3"
  }
 },
 "nbformat": 4,
 "nbformat_minor": 5
}
